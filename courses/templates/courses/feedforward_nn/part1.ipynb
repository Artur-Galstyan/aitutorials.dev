{
 "cells": [
  {
   "cell_type": "markdown",
   "metadata": {},
   "source": [
    "<div style=\"text-align:justify\">\n",
    "A neural network (NN) is loosely based on the inner workings of biological brains. In biological brains, neurons have axons which \"connect\" with other neurons via our synapses. Our neurons \"talk\" with each other using complex chemical processes. However, the main idea that artificial NNs took from the biological ones is that once there is enough action potential in the neuron and a certain threshold is passed, a neuron sends a signal to its connected neurons. (Again, I'm vastly simplifying; the process involves a lot of chemistry).\n",
    "</div>"
   ]
  },
  {
   "cell_type": "markdown",
   "metadata": {},
   "source": [
    "![The Inner Workings of our Brain](../../../../static/images/NeuralNetworkBasics.jpg)"
   ]
  },
  {
   "cell_type": "markdown",
   "metadata": {},
   "source": []
  },
  {
   "cell_type": "code",
   "execution_count": 1,
   "metadata": {},
   "outputs": [],
   "source": [
    "x = 5 + 1\n",
    "y = x + 5"
   ]
  },
  {
   "cell_type": "code",
   "execution_count": null,
   "metadata": {},
   "outputs": [],
   "source": []
  }
 ],
 "metadata": {
  "kernelspec": {
   "display_name": "Python 3.9.13 64-bit ('py39-main')",
   "language": "python",
   "name": "python3"
  },
  "language_info": {
   "codemirror_mode": {
    "name": "ipython",
    "version": 3
   },
   "file_extension": ".py",
   "mimetype": "text/x-python",
   "name": "python",
   "nbconvert_exporter": "python",
   "pygments_lexer": "ipython3",
   "version": "3.9.13"
  },
  "orig_nbformat": 4,
  "vscode": {
   "interpreter": {
    "hash": "293ecdab3c20ad13cd0959b81795b440c8381cceeef0cf9bb1d9cb2ce36671e6"
   }
  }
 },
 "nbformat": 4,
 "nbformat_minor": 2
}
